{
 "cells": [
  {
   "cell_type": "code",
   "execution_count": 11,
   "metadata": {
    "collapsed": true
   },
   "outputs": [
    {
     "name": "stdout",
     "output_type": "stream",
     "text": [
      "['Abigail', 'Adam', 'Alexander', 'Amelia', 'Arthur', 'Ava', 'Avery', 'Charlie', 'Charlotte', 'Daniel', 'David', 'Dylan', 'Edward', 'Elizabeth', 'Elliott', 'Emily', 'Ethan', 'Evelyn', 'Frederick', 'George', 'Harper', 'Harrison', 'Harry', 'Harvey', 'Henry', 'Isabella', 'Jack', 'Jake', 'James', 'Joseph', 'Louis', 'Lucy', 'Madison', 'Max', 'Mia', 'Noah', 'Oliver', 'Olivia', 'Oscar', 'Samuel', 'Sebastian', 'Sophia', 'Theo', 'Thomas', 'Victoria', 'William']\n"
     ]
    }
   ],
   "source": [
    "import glob\n",
    "import numpy as np\n",
    "import random\n",
    "import librosa\n",
    "from sklearn.model_selection import train_test_split\n",
    "from sklearn.preprocessing import LabelBinarizer\n",
    "\n",
    "from keras.layers import LSTM, Dense, Dropout, Flatten\n",
    "from keras.models import Sequential\n",
    "from keras.optimizers import Adam\n",
    "from keras.callbacks import EarlyStopping, ModelCheckpoint\n",
    "\n",
    "\n",
    "from os import listdir\n",
    "from os.path import isfile, join\n",
    "\n",
    "from keras.models import model_from_json\n",
    "\n",
    "DATA_DIR = 'C:\\\\wamp64\\\\www\\\\Multi-modal-authentification\\\\voices\\\\'\n",
    "\n",
    "\n",
    "files = [f for f in listdir(DATA_DIR) if isfile(join(DATA_DIR, f))]\n",
    "\n",
    "\n",
    "X_train = []\n",
    "X_val = []\n",
    "for i in range(0, len(files)):\n",
    "    tmp = files[i].split(\"_\")[0]\n",
    "    if tmp == \"left\":\n",
    "        X_train.append(files[i])\n",
    "    else:\n",
    "        X_val.append(files[i])\n",
    "\n",
    "labels = []\n",
    "for i in range(len(X_train)):\n",
    "    label = X_train[i].split('_')[1].split('.')[0]\n",
    "    if label not in labels:\n",
    "        labels.append(label)\n",
    "print(labels)\n",
    "\n",
    "max_length = 435\n",
    "\n",
    "label_binarizer = LabelBinarizer()\n",
    "label_binarizer.fit(list(set(labels)))\n",
    "\n",
    "def one_hot_encode(x): return label_binarizer.transform(x)\n",
    "\n",
    "def prepare(path):\n",
    "    wave, sr = librosa.load(path, mono=True)\n",
    "    mfcc = librosa.feature.mfcc(wave, sr)\n",
    "    mfcc = np.pad(mfcc, ((0, 0), (0, max_length - len(mfcc[0]))), mode='constant', constant_values=0)\n",
    "    return np.array(mfcc)\n",
    "\n",
    "\n",
    "def batch_generator(data, batch_size=16):\n",
    "    # data is just the X_train\n",
    "    while 1:\n",
    "        random.shuffle(data)\n",
    "        X, y = [], []\n",
    "        for i in range(batch_size):\n",
    "            wav = data[i]\n",
    "            wave, sr = librosa.load(DATA_DIR + wav, mono=True) # Adjust the path where the dataset is.\n",
    "            label = wav.split('_')[1].split('.')[0]\n",
    "            y.append(label)\n",
    "            mfcc = librosa.feature.mfcc(wave, sr)\n",
    "            mfcc = np.pad(mfcc, ((0,0), (0, max_length-len(mfcc[0]))), mode='constant', constant_values=0)\n",
    "            X.append(np.array(mfcc))\n",
    "        yield np.array(X), np.array(one_hot_encode(y))\n",
    "\n",
    "\n",
    "with open(\"C:\\\\wamp64\\\\www\\\\Multi-modal-authentification\\\\\" + './model.json', 'r') as f:\n",
    "    model = model_from_json(f.read())\n",
    "\n",
    "model.load_weights(\"C:\\\\wamp64\\\\www\\\\Multi-modal-authentification\\\\\" + './checkpoints_old/voice_recognition_best_model_05.hdf5')\n",
    "\n",
    "#model = tf.keras.models.load_model(\"./checkpoints_old/voice_recognition_best_model_05.hdf5\")\n"
   ]
  },
  {
   "cell_type": "code",
   "execution_count": 84,
   "metadata": {
    "collapsed": true
   },
   "outputs": [
    {
     "name": "stdout",
     "output_type": "stream",
     "text": [
      "{\"predictions\": {\"Abigail\": \"0.0063126483\", \"Adam\": \"0.05075737\", \"Alexander\": \"0.11355051\", \"Amelia\": \"0.0023061077\", \"Arthur\": \"0.012582032\", \"Ava\": \"0.017087925\", \"Avery\": \"0.00071791175\", \"Charlie\": \"0.00043110887\", \"Charlotte\": \"0.0029428164\", \"Daniel\": \"0.00026786522\", \"David\": \"0.060302373\", \"Dylan\": \"0.0006901187\", \"Edward\": \"0.00517013\", \"Elizabeth\": \"0.0015940629\", \"Elliott\": \"0.01374901\", \"Emily\": \"0.33593005\", \"Ethan\": \"0.00061023916\", \"Evelyn\": \"0.00515447\", \"Frederick\": \"0.03377318\", \"George\": \"0.0044793147\", \"Harper\": \"0.028340064\", \"Harrison\": \"0.005109241\", \"Harry\": \"0.00074405794\", \"Harvey\": \"0.0073210513\", \"Henry\": \"0.005617719\", \"Isabella\": \"0.009576508\", \"Jack\": \"0.00068354496\", \"Jake\": \"0.0030357144\", \"James\": \"0.03508899\", \"Joseph\": \"0.003288122\", \"Louis\": \"0.0015190764\", \"Lucy\": \"0.0042081433\", \"Madison\": \"0.11422729\", \"Max\": \"0.0042268783\", \"Mia\": \"0.0005174069\", \"Noah\": \"0.0022254295\", \"Oliver\": \"0.0012295869\", \"Olivia\": \"0.005747381\", \"Oscar\": \"0.0011674549\", \"Samuel\": \"0.0040130825\", \"Sebastian\": \"0.003711937\", \"Sophia\": \"0.028441515\", \"Theo\": \"0.038103826\", \"Thomas\": \"0.00057054946\", \"Victoria\": \"0.022059985\", \"William\": \"0.0008162072\"}, \"results\": {\"label\": \"Emily\", \"probability\": \"0.33593005\"}}\n"
     ]
    }
   ],
   "source": [
    "import json\n",
    "\n",
    "data = prepare(\"C:\\\\wamp64\\\\www\\\\Multi-modal-authentification\\\\\" + \"right_Emily.wav\")\n",
    "#data = np.reshape(data, data.shape + (1,))\n",
    "#X = np.array(data)\n",
    "\n",
    "b = data.reshape(-1, data.shape[0], data.shape[1])\n",
    "\n",
    "#print(b.shape)\n",
    "\n",
    "\n",
    "\n",
    "prediction = model.predict(b)\n",
    "#prediction = model.predict_classes(b, batch_size=32, verbose = 2)\n",
    "#print(prediction[0][1])\n",
    "index = False\n",
    "highest_probability = False\n",
    "final_predictions = {}\n",
    "final_predictions['predictions'] = {}\n",
    "final_predictions['results'] = {}\n",
    "for i in range(0, len(prediction[0])):\n",
    "    final_predictions['predictions'][labels[i]] = str(prediction[0][i])\n",
    "    if prediction[0][i] > highest_probability:\n",
    "        highest_probability = prediction[0][i]\n",
    "        index = i\n",
    "        \n",
    "#print(\"Highest probability is \" + str(highest_probability))\n",
    "#print(labels[index])\n",
    "\n",
    "final_predictions['results'] = {\n",
    "    \"label\": labels[index],\n",
    "    \"probability\": str(highest_probability) \n",
    "}\n",
    "\n",
    "json_data = json.dumps(final_predictions)\n",
    "\n",
    "print(json_data)\n"
   ]
  },
  {
   "cell_type": "code",
   "execution_count": null,
   "metadata": {
    "collapsed": true
   },
   "outputs": [],
   "source": [
    "SEED = 2017\n",
    "DATA_DIR = '../Data/spoken_numbers_pcm/' "
   ]
  },
  {
   "cell_type": "code",
   "execution_count": null,
   "metadata": {
    "collapsed": true
   },
   "outputs": [],
   "source": [
    "files = glob.glob(DATA_DIR + \"*.wav\")\n",
    "X_train, X_val = train_test_split(files, test_size=0.2, random_state=SEED)\n",
    "\n",
    "print('# Training examples: {}'.format(len(X_train)))\n",
    "print('# Validation examples: {}'.format(len(X_val)))"
   ]
  },
  {
   "cell_type": "code",
   "execution_count": null,
   "metadata": {
    "collapsed": true
   },
   "outputs": [],
   "source": [
    "labels = []\n",
    "for i in range(len(X_train)):\n",
    "    label = X_train[i].split('/')[-1].split('_')[1]\n",
    "    if label not in labels:\n",
    "        labels.append(label)\n",
    "print(labels)"
   ]
  },
  {
   "cell_type": "code",
   "execution_count": null,
   "metadata": {
    "collapsed": true
   },
   "outputs": [],
   "source": [
    "label_binarizer = LabelBinarizer()\n",
    "label_binarizer.fit(list(set(labels)))\n",
    "\n",
    "def one_hot_encode(x): return label_binarizer.transform(x)"
   ]
  },
  {
   "cell_type": "code",
   "execution_count": null,
   "metadata": {
    "collapsed": true
   },
   "outputs": [],
   "source": [
    "n_features = 20\n",
    "max_length = 80\n",
    "n_classes = len(labels)"
   ]
  },
  {
   "cell_type": "code",
   "execution_count": null,
   "metadata": {
    "collapsed": true
   },
   "outputs": [],
   "source": [
    "def batch_generator(data, batch_size=16):\n",
    "    while 1:\n",
    "        random.shuffle(data)\n",
    "        X, y = [], []\n",
    "        for i in range(batch_size):\n",
    "            wav = data[i]\n",
    "            wave, sr = librosa.load(wav, mono=True)\n",
    "            label = wav.split('/')[-1].split('_')[1]\n",
    "            y.append(label)\n",
    "            mfcc = librosa.feature.mfcc(wave, sr)\n",
    "            mfcc = np.pad(mfcc, ((0,0), (0, max_length-len(mfcc[0]))), mode='constant', constant_values=0) \n",
    "            X.append(np.array(mfcc))\n",
    "        yield np.array(X), np.array(one_hot_encode(y))"
   ]
  },
  {
   "cell_type": "code",
   "execution_count": null,
   "metadata": {
    "collapsed": true
   },
   "outputs": [],
   "source": [
    "learning_rate = 0.001\n",
    "batch_size = 64\n",
    "n_epochs = 50\n",
    "dropout = 0.5\n",
    "\n",
    "input_shape = (n_features, max_length)\n",
    "steps_per_epoch = 50"
   ]
  },
  {
   "cell_type": "code",
   "execution_count": null,
   "metadata": {
    "collapsed": true
   },
   "outputs": [],
   "source": [
    "model = Sequential()\n",
    "model.add(LSTM(256, return_sequences=True, input_shape=input_shape,\n",
    "dropout=dropout))\n",
    "model.add(Flatten())\n",
    "model.add(Dense(128, activation='relu'))\n",
    "model.add(Dropout(dropout))\n",
    "model.add(Dense(n_classes, activation='softmax'))"
   ]
  },
  {
   "cell_type": "code",
   "execution_count": null,
   "metadata": {
    "collapsed": true
   },
   "outputs": [],
   "source": [
    "opt = Adam(lr=learning_rate)\n",
    "model.compile(loss='categorical_crossentropy', optimizer=opt, metrics=['accuracy'])\n",
    "model.summary()"
   ]
  },
  {
   "cell_type": "code",
   "execution_count": null,
   "metadata": {
    "collapsed": true
   },
   "outputs": [],
   "source": [
    "callbacks = [ModelCheckpoint('checkpoints/voice_recognition_best_model_{epoch:02d}.hdf5', save_best_only=True),\n",
    "            EarlyStopping(monitor='val_acc', patience=2)]"
   ]
  },
  {
   "cell_type": "code",
   "execution_count": null,
   "metadata": {
    "collapsed": true
   },
   "outputs": [],
   "source": [
    "history = model.fit_generator(\n",
    " generator=batch_generator(X_train, batch_size),\n",
    " steps_per_epoch=steps_per_epoch,\n",
    " epochs=n_epochs, verbose=1,\n",
    " validation_data=batch_generator(X_val, 32),\n",
    " validation_steps=5,\n",
    " callbacks=callbacks\n",
    " )"
   ]
  },
  {
   "cell_type": "code",
   "execution_count": null,
   "metadata": {
    "collapsed": true
   },
   "outputs": [],
   "source": []
  }
 ],
 "metadata": {
  "kernelspec": {
   "display_name": "Python 3",
   "language": "python",
   "name": "python3"
  },
  "language_info": {
   "codemirror_mode": {
    "name": "ipython",
    "version": 3
   },
   "file_extension": ".py",
   "mimetype": "text/x-python",
   "name": "python",
   "nbconvert_exporter": "python",
   "pygments_lexer": "ipython3",
   "version": "3.6.0"
  }
 },
 "nbformat": 4,
 "nbformat_minor": 2
}
